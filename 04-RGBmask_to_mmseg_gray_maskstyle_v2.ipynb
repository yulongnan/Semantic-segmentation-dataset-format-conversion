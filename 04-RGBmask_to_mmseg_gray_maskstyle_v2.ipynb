{
 "cells": [
  {
   "cell_type": "markdown",
   "metadata": {},
   "source": [
    "\n",
    "1 = mmsegmentation RGB mask label change to mmseg gray style png  \n",
    "2 = 注意：标注是跟图像同样的形状 (H, W)，其中的像素值的范围是 `[0, num_classes - 1]`。  \n",
    "3 = 示例：[0, 2-1]   \n",
    "4 = VOC数据集  ==> RGB mask label change to mmseg gray style png   \n",
    "5 = 背景作为一个类 =背景作为0 ；【注意：转labelme JSON ,需要用含背景的greymask】  \n",
    "    gray_img = np.zeros(shape=(color_img.shape[0], color_img.shape[1]), dtype=np.uint8) #背景参与计算, 背景设为0   \n",
    "    [  \n",
    "        (0, 0, 0),      # grey =0   # background #背景不参与计算, 背景设为255  \n",
    "        (181, 119, 53), # grey =1     # pitaya # 读取 RGB (53, 119, 181) ==> cv2 ：BGR (181, 119, 53)     \n",
    "    ] )  \n",
    "6 = 背景不作为一个类 =背景作为255 ；【注意：不含背景的greymask，用于VOC训练时不含backguround类别】  \n",
    "    gray_img = 255 - np.zeros(shape=(color_img.shape[0], color_img.shape[1]), dtype=np.uint8) #背景不参与计算, 背景设为255   \n",
    "    cmap = np.array(    \n",
    "    [  \n",
    "        # (0, 0, 0),      # background #背景不参与计算, 背景设为255  \n",
    "        (181, 119, 53),   # grey =0 # pitaya # 读取 RGB (53, 119, 181) ==> cv2 ：BGR (181, 119, 53)     \n",
    "    ] )  \n",
    "7 = 执行05-07程序，用含background的greymask 【特别注意】   "
   ]
  },
  {
   "cell_type": "code",
   "execution_count": 1,
   "metadata": {},
   "outputs": [],
   "source": [
    "from PIL import Image\n",
    "import numpy as np\n",
    "import os\n",
    "import cv2\n",
    "import time\n",
    "from tqdm import tqdm"
   ]
  },
  {
   "cell_type": "markdown",
   "metadata": {},
   "source": [
    "1== 含背景greymask转换 "
   ]
  },
  {
   "cell_type": "code",
   "execution_count": 2,
   "metadata": {},
   "outputs": [],
   "source": [
    "# RGB mask == > mmsegmetation mask \n",
    "def color2gray(img_path, color_map, save_dir):\n",
    "    # 读取图片\n",
    "    color_img = cv2.imread(img_path, cv2.IMREAD_UNCHANGED)\n",
    "    # print('像素值= ', np.unique(color_img) )\n",
    "    # 计算时间\n",
    "    t0 = time.time()\n",
    "    gray_img = np.zeros(shape=(color_img.shape[0], color_img.shape[1]), dtype=np.uint8)\n",
    "    for i in range(color_map.shape[0]):\n",
    "        index = np.where(np.all(color_img == color_map[i], axis=-1))  # np.all true false\n",
    "        # print(i,'\\n',index,'\\n',color_map.shape[0])\n",
    "        gray_img[index] = i\n",
    "    t1 = time.time()\n",
    "    time_cost = round(t1 - t0, 3)\n",
    "    # print(f\"color2label  cost time {time_cost}\")\n",
    "    # 保存图片\n",
    "    dir, name = os.path.split(img_path)\n",
    "    if not os.path.exists(save_dir):\n",
    "        os.mkdir(save_dir)\n",
    "    save_path = os.path.join(save_dir, name)\n",
    "    cv2.imwrite(save_path, gray_img)"
   ]
  },
  {
   "cell_type": "code",
   "execution_count": 3,
   "metadata": {},
   "outputs": [],
   "source": [
    "# VOC 数据集  RGB mask ==> mmseg_gray_style mask\n",
    "# 你的colormap # 特别注意 cv2 == BGR \n",
    "def RGBmask_to_mmseg_graymaskd(img_dir, save_dir):\n",
    "    cmap = np.array(  \n",
    "        [\n",
    "            (0, 0, 0),      # gray =0 # background\n",
    "            (181, 119, 53), # gray =1  pitaya # 读取 RGB (53, 119, 181) ==> cv2 ：BGR (181, 119, 53)   \n",
    "        ] )\n",
    "\n",
    "\n",
    "    if not os.path.exists(img_dir):\n",
    "        os.mkdir(img_dir)\n",
    "\n",
    "    for img in os.listdir(img_dir):\n",
    "        if not img.endswith((\".png\", \".jpg\")):\n",
    "            continue\n",
    "        img_path = os.path.join(img_dir, img)\n",
    "        color2gray(img_path, color_map=cmap, save_dir=save_dir)\n",
    "\n",
    "    path_valid =  os.path.join(root_path_gray, target_folder, os.listdir(img_dir)[0])\n",
    "    img = cv2.imread(path_valid)\n",
    "    np.unique(img)\n",
    "\n",
    "if __name__=='__main__':\n",
    "    # 文件路径\n",
    "    root_path_gray = 'IMG_AUG'\n",
    "    target_folder  = 'SegmentationClass_AUG_mask_graymmseg'\n",
    "    img_dir = os.path.join(root_path_gray, 'SegmentationClass_AUG_mask')\n",
    "    save_dir = os.path.join(root_path_gray, target_folder)\n",
    "    \n",
    "    RGBmask_to_mmseg_graymaskd(img_dir, save_dir) # RGB mask ==> mmseg_gray_style mask"
   ]
  },
  {
   "cell_type": "markdown",
   "metadata": {},
   "source": [
    "2== 不含背景greymask转换 "
   ]
  },
  {
   "cell_type": "code",
   "execution_count": 4,
   "metadata": {},
   "outputs": [],
   "source": [
    "# RGB mask == > mmsegmetation mask == 不含background \n",
    "def color2gray_nobackground(img_path, color_map, save_dir):\n",
    "    # 读取图片\n",
    "    color_img = cv2.imread(img_path, cv2.IMREAD_UNCHANGED)\n",
    "    # print('像素值= ', np.unique(color_img) )\n",
    "    # 计算时间\n",
    "    t0 = time.time()\n",
    "    gray_img = 255 - np.zeros(shape=(color_img.shape[0], color_img.shape[1]), dtype=np.uint8) #背景不参与计算, 背景设为255 \n",
    "    for i in range(color_map.shape[0]):\n",
    "        index = np.where(np.all(color_img == color_map[i], axis=-1))  # np.all true false\n",
    "        # print(i,'\\n',index,'\\n',color_map.shape[0]) \n",
    "        gray_img[index] = i\n",
    "    t1 = time.time()\n",
    "    time_cost = round(t1 - t0, 3)\n",
    "    # print(f\"color2label  cost time {time_cost}\")\n",
    "    # 保存图片\n",
    "    dir, name = os.path.split(img_path)\n",
    "    if not os.path.exists(save_dir):\n",
    "        os.mkdir(save_dir)\n",
    "    save_path = os.path.join(save_dir, name)\n",
    "    cv2.imwrite(save_path, gray_img)\n"
   ]
  },
  {
   "cell_type": "code",
   "execution_count": 5,
   "metadata": {},
   "outputs": [
    {
     "name": "stderr",
     "output_type": "stream",
     "text": [
      "100%|██████████| 42/42 [00:01<00:00, 34.79it/s]\n"
     ]
    }
   ],
   "source": [
    "# VOC 数据集  RGB mask ==> mmseg_gray_style mask nobackguround\n",
    "# 你的colormap # 特别注意 cv2 == BGR \n",
    "def RGBmask_to_mmseg_graymask_nobackground(img_dir, save_dir):\n",
    "    cmap = np.array(  \n",
    "        [\n",
    "            # (0, 0, 0),      # background #背景不参与计算, 背景设为255\n",
    "            (181, 119, 53),   # gray = 0 # pitaya # 读取 RGB (53, 119, 181) ==> cv2 ：BGR (181, 119, 53)   \n",
    "        ] )\n",
    "\n",
    "    if not os.path.exists(img_dir):\n",
    "        os.mkdir(img_dir)\n",
    "\n",
    "    for img in tqdm(os.listdir(img_dir)):\n",
    "        if not img.endswith((\".png\", \".jpg\")):\n",
    "            continue\n",
    "        img_path = os.path.join(img_dir, img) \n",
    "        color2gray_nobackground(img_path, color_map=cmap, save_dir=save_dir) \n",
    "\n",
    "    path_valid =  os.path.join(root_path_gray, target_folder, os.listdir(img_dir)[0])\n",
    "    img = cv2.imread(path_valid)\n",
    "    np.unique(img)\n",
    "\n",
    "if __name__=='__main__':\n",
    "    # 文件路径\n",
    "    root_path_gray = 'IMG_AUG'\n",
    "    target_folder  = 'SegmentationClass_AUG_mask_graymmseg_nobackground' # 无背景mask\n",
    "    img_dir = os.path.join(root_path_gray, 'SegmentationClass_AUG_mask')\n",
    "    save_dir = os.path.join(root_path_gray, target_folder)\n",
    "    \n",
    "    RGBmask_to_mmseg_graymask_nobackground(img_dir, save_dir) # RGB mask ==> mmseg_gray_style mask nobackguround "
   ]
  },
  {
   "cell_type": "code",
   "execution_count": null,
   "metadata": {},
   "outputs": [],
   "source": []
  }
 ],
 "metadata": {
  "kernelspec": {
   "display_name": "Python 3.8.8 ('py388')",
   "language": "python",
   "name": "python3"
  },
  "language_info": {
   "codemirror_mode": {
    "name": "ipython",
    "version": 3
   },
   "file_extension": ".py",
   "mimetype": "text/x-python",
   "name": "python",
   "nbconvert_exporter": "python",
   "pygments_lexer": "ipython3",
   "version": "3.8.8"
  },
  "orig_nbformat": 4,
  "vscode": {
   "interpreter": {
    "hash": "677c0435ce1546a17936ac4ebb68e354c483e0b171ba4fe465c88ee614eeb35b"
   }
  }
 },
 "nbformat": 4,
 "nbformat_minor": 2
}
