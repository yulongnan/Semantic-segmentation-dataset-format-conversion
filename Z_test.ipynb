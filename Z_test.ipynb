{
 "cells": [
  {
   "cell_type": "code",
   "execution_count": 1,
   "metadata": {},
   "outputs": [],
   "source": [
    "import os\n",
    "import re"
   ]
  },
  {
   "cell_type": "code",
   "execution_count": 11,
   "metadata": {},
   "outputs": [
    {
     "data": {
      "text/plain": [
       "['01-SegClass_Rename_Pesudo.ipynb',\n",
       " 'JPEGImages_AUG_image',\n",
       " 'SegmentationClass_AUG_mask',\n",
       " 'SegmentationClass_AUG_mask_graymmseg']"
      ]
     },
     "execution_count": 11,
     "metadata": {},
     "output_type": "execute_result"
    }
   ],
   "source": [
    "aug_path =os.list('IMG_AUG')\n",
    "aug_path \n"
   ]
  },
  {
   "cell_type": "code",
   "execution_count": 13,
   "metadata": {},
   "outputs": [
    {
     "data": {
      "text/plain": [
       "['JPEGImages_AUG_image',\n",
       " 'SegmentationClass_AUG_mask',\n",
       " 'SegmentationClass_AUG_mask_graymmseg']"
      ]
     },
     "execution_count": 13,
     "metadata": {},
     "output_type": "execute_result"
    }
   ],
   "source": [
    "dirnames = [name for name in os.listdir('IMG_AUG')if os.path.isdir(os.path.join('IMG_AUG', name))]\n",
    "dirnames"
   ]
  },
  {
   "cell_type": "code",
   "execution_count": 10,
   "metadata": {},
   "outputs": [],
   "source": [
    "aug_path=['JPEGImages_AUG_image',\n",
    " 'SegmentationClass_AUG_mask',\n",
    " 'SegmentationClass_AUG_mask_graymmseg']\n",
    "for i_path in aug_path:\n",
    "    os.makedirs(os.path.join('../IMG_AUG', i_path) ,exist_ok=True)"
   ]
  }
 ],
 "metadata": {
  "kernelspec": {
   "display_name": "Python 3.8.8 ('py388')",
   "language": "python",
   "name": "python3"
  },
  "language_info": {
   "codemirror_mode": {
    "name": "ipython",
    "version": 3
   },
   "file_extension": ".py",
   "mimetype": "text/x-python",
   "name": "python",
   "nbconvert_exporter": "python",
   "pygments_lexer": "ipython3",
   "version": "3.8.8"
  },
  "orig_nbformat": 4,
  "vscode": {
   "interpreter": {
    "hash": "677c0435ce1546a17936ac4ebb68e354c483e0b171ba4fe465c88ee614eeb35b"
   }
  }
 },
 "nbformat": 4,
 "nbformat_minor": 2
}
