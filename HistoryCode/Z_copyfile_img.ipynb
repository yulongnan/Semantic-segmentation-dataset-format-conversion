{
 "cells": [
  {
   "cell_type": "code",
   "execution_count": 1,
   "metadata": {},
   "outputs": [],
   "source": [
    "import os \n",
    "import shutil"
   ]
  },
  {
   "cell_type": "code",
   "execution_count": 3,
   "metadata": {},
   "outputs": [
    {
     "name": "stdout",
     "output_type": "stream",
     "text": [
      "copytree == OK\n"
     ]
    }
   ],
   "source": [
    "\n",
    "# path_1 = 'F:\\F_HLG_Multi_Detection\\datasets\\VOC_HLGMulti\\images\\VOCdevkit\\VOC2007\\JPEGImages_All'\n",
    "path_1 = 'JPEGImages_All'\n",
    "if not os.path.isdir(path_1):\n",
    "    os.makedirs(path_1)\n",
    "\n",
    "SourcePath_imgPath1 = 'IMG_AUG\\JPEGImages_AUG'\n",
    "SourcePath_imgPath2 = 'IMG_AUG_S2\\JPEGImages_AUG'\n",
    "Target_img_dir = path_1 + '\\\\'\n",
    "shutil.copytree(SourcePath_imgPath1, Target_img_dir, dirs_exist_ok=True) \n",
    "shutil.copytree(SourcePath_imgPath2, Target_img_dir, dirs_exist_ok=True) \n",
    "print('copytree == OK')"
   ]
  },
  {
   "cell_type": "code",
   "execution_count": 4,
   "metadata": {},
   "outputs": [
    {
     "name": "stdout",
     "output_type": "stream",
     "text": [
      "copytree == OK\n"
     ]
    }
   ],
   "source": [
    "# path_1 = 'F:\\F_HLG_Multi_Detection\\datasets\\VOC_HLGMulti\\images\\VOCdevkit\\VOC2007\\JPEGImages_All'\n",
    "path_2 = 'Annotations_All'\n",
    "if not os.path.isdir(path_2):\n",
    "    os.makedirs(path_2)\n",
    "    \n",
    "SourcePath_xmlPath1 = 'IMG_AUG\\Annotations_AUG'\n",
    "SourcePath_xmlPath2 = 'IMG_AUG_S2\\Annotations_AUG'\n",
    "Target_xml_dir = path_2+ '\\\\'\n",
    "shutil.copytree(SourcePath_xmlPath1, Target_xml_dir, dirs_exist_ok=True) \n",
    "shutil.copytree(SourcePath_xmlPath2, Target_xml_dir, dirs_exist_ok=True) \n",
    "print('copytree == OK')"
   ]
  },
  {
   "cell_type": "code",
   "execution_count": 9,
   "metadata": {},
   "outputs": [
    {
     "name": "stdout",
     "output_type": "stream",
     "text": [
      "img real 51238\n",
      "xml real 51238\n"
     ]
    }
   ],
   "source": [
    "# 数量统计 \n",
    "img_T1 = len(os.listdir(path_1))\n",
    "xml_T1 = len(os.listdir(path_2))\n",
    "\n",
    "print('img real',img_T1)\n",
    "print('xml real',xml_T1)"
   ]
  },
  {
   "cell_type": "code",
   "execution_count": null,
   "metadata": {},
   "outputs": [],
   "source": [
    "# XML 复制\n"
   ]
  }
 ],
 "metadata": {
  "interpreter": {
   "hash": "ad2bdc8ecc057115af97d19610ffacc2b4e99fae6737bb82f5d7fb13d2f2c186"
  },
  "kernelspec": {
   "display_name": "Python 3.8.8 ('base')",
   "language": "python",
   "name": "python3"
  },
  "language_info": {
   "codemirror_mode": {
    "name": "ipython",
    "version": 3
   },
   "file_extension": ".py",
   "mimetype": "text/x-python",
   "name": "python",
   "nbconvert_exporter": "python",
   "pygments_lexer": "ipython3",
   "version": "3.9.12"
  },
  "orig_nbformat": 4
 },
 "nbformat": 4,
 "nbformat_minor": 2
}
