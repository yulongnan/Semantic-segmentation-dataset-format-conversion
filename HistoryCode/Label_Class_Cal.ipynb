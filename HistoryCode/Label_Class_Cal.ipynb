{
 "cells": [
  {
   "cell_type": "code",
   "execution_count": 3,
   "metadata": {},
   "outputs": [],
   "source": [
    "# 统计 类别数目 \n",
    "import os\n",
    "import xml.etree.ElementTree as ET\n",
    "import numpy as np\n",
    "# np.set_printoptions(suppress=True, threshold=np.nan)\n",
    "import matplotlib\n",
    "from PIL import Image\n",
    "import shutil\n",
    "import tqdm"
   ]
  },
  {
   "cell_type": "code",
   "execution_count": 4,
   "metadata": {},
   "outputs": [
    {
     "name": "stdout",
     "output_type": "stream",
     "text": [
      "Pepper:61011个\n",
      "信息统计算完毕。\n",
      "Pepper = 数据集计数 {'Pepper': 61011}\n"
     ]
    }
   ],
   "source": [
    "def parse_obj(xml_path, filename): \n",
    "    tree=ET.parse(xml_path+filename) \n",
    "    objects=[] \n",
    "    for obj in tree.findall('object'): \n",
    "        obj_struct={} \n",
    "        obj_struct['name']=obj.find('name').text \n",
    "        objects.append(obj_struct) \n",
    "    return objects \n",
    " \n",
    " \n",
    "def read_image(image_path, filename):\n",
    "    im=Image.open(image_path+filename)\n",
    "    W=im.size[0]\n",
    "    H=im.size[1]\n",
    "    area=W*H\n",
    "    im_info=[W,H,area]\n",
    "    return im_info\n",
    " \n",
    " \n",
    "if __name__ == '__main__':\n",
    "\n",
    "    # xml_path ='Annotations_X1_800\\\\'  # 指定XML路径\n",
    "    # xml_path ='IMG_AUG\\Annotations_AUG\\\\'  # 指定XML路径\n",
    "    xml_path = 'VOCdevkit\\VOC2007\\Annotations\\\\'\n",
    "\n",
    "    filenamess=os.listdir(xml_path)\n",
    "    filenames=[]\n",
    "    for name in filenamess:\n",
    "        name=name.replace('.xml','')\n",
    "        filenames.append(name)\n",
    "    recs={}\n",
    "    obs_shape={}\n",
    "    classnames=[]\n",
    "    num_objs={}\n",
    "    obj_avg={}\n",
    "\n",
    "    list_cls_Pepper_filename = []  # 查找错误标记类\n",
    "    list_cls_OF_filename = []  # 查找OF\n",
    "\n",
    "    for i,name in enumerate(filenames): #读所有文件\n",
    "        recs[name]=parse_obj(xml_path, name+ '.xml' )\n",
    "    # print(recs)\n",
    "    for name in filenames:  #filenames[:1]\n",
    "        for object in recs[name]:\n",
    "            # print(object) object = {'name': 'OF'}\n",
    "            if object['name'] not in num_objs.keys():\n",
    "                num_objs[object['name']] = 1\n",
    "            else:\n",
    "                num_objs[object['name']] += 1\n",
    "\n",
    "            # 按条件查找特定类\n",
    "            if object['name'] == 'Pepper':  # 查找错误标记类\n",
    "               list_cls_Pepper_filename.append(name) \n",
    "            if object['name'] == 'OF':      # 查找OF标记类\n",
    "               list_cls_OF_filename.append(name) \n",
    "\n",
    "            if object['name'] not in classnames:\n",
    "                classnames.append(object['name'])\n",
    "    for name in classnames:\n",
    "        print('{}:{}个'.format(name,num_objs[name]))\n",
    "    \n",
    "    print('信息统计算完毕。') \n",
    "    print('Pepper = 数据集计数', num_objs)"
   ]
  },
  {
   "cell_type": "code",
   "execution_count": 5,
   "metadata": {},
   "outputs": [
    {
     "name": "stdout",
     "output_type": "stream",
     "text": [
      "Pepper_Bri_0001\n",
      "Pepper_CLAHE_0001\n",
      "Pepper_Ctra_0001\n",
      "Pepper_Cuto_0001\n",
      "Pepper_GBlur_0001\n",
      "Pepper_HF_0001\n",
      "Pepper_R180_0001\n",
      "Pepper_RGBS_0001\n"
     ]
    }
   ],
   "source": [
    "# 检查是否有漏标的图片 == 输出序号 \n",
    "\n",
    "last_num = 0\n",
    "for name in filenamess:\n",
    "    name=name.replace('.xml','')\n",
    "    current_num = int(name[-4:])\n",
    "    diff_val = current_num - last_num\n",
    "\n",
    "    last_num = current_num\n",
    "\n",
    "    if diff_val != 1:\n",
    "        print(name) \n"
   ]
  },
  {
   "cell_type": "code",
   "execution_count": null,
   "metadata": {},
   "outputs": [],
   "source": [
    "\n",
    "\n"
   ]
  }
 ],
 "metadata": {
  "interpreter": {
   "hash": "2db524e06e9f5f4ffedc911c917cb75e12dbc923643829bf417064a77eb14d37"
  },
  "kernelspec": {
   "display_name": "Python 3.8.8 64-bit",
   "language": "python",
   "name": "python3"
  },
  "language_info": {
   "codemirror_mode": {
    "name": "ipython",
    "version": 3
   },
   "file_extension": ".py",
   "mimetype": "text/x-python",
   "name": "python",
   "nbconvert_exporter": "python",
   "pygments_lexer": "ipython3",
   "version": "3.8.8"
  },
  "orig_nbformat": 4
 },
 "nbformat": 4,
 "nbformat_minor": 2
}
