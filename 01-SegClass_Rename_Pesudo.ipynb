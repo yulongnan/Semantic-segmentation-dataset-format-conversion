{
 "cells": [
  {
   "cell_type": "code",
   "execution_count": 1,
   "metadata": {},
   "outputs": [
    {
     "name": "stdout",
     "output_type": "stream",
     "text": [
      "10\n"
     ]
    }
   ],
   "source": [
    "## 抽取_pseudo.png文件 == 重命名去掉_pseudo\n",
    "import os\n",
    "import shutil \n",
    "import glob\n",
    "rootpath = 'SegmentationClass_X1_1370'           \n",
    "pseudo_PNGlist = glob.glob(rootpath + '/*_pseudo.png') \n",
    "\n",
    "root_savepath = 'SegmentationClass_Pseudo_1370' \n",
    "if not os.path.exists(root_savepath):\n",
    "    os.makedirs(root_savepath)\n",
    "\n",
    "print(len(pseudo_PNGlist))\n",
    "\n",
    "for i_num in range(len(pseudo_PNGlist)):\n",
    "    src = pseudo_PNGlist[i_num]\n",
    "    dst = os.path.join( root_savepath , os.path.basename(pseudo_PNGlist[i_num]).split('.')[0][:-7] + '.png' )\n",
    "    shutil.copy(src , dst)"
   ]
  },
  {
   "cell_type": "code",
   "execution_count": 2,
   "metadata": {},
   "outputs": [],
   "source": [
    "if False:\n",
    "    # 查找缺失图像编号 【不缺图不运行】\n",
    "    import glob\n",
    "    for i_num in range(1,1371,1):\n",
    "        rootpath = 'SegmentationClass_X1_1370'  \n",
    "        pseudo_PNG_num = glob.glob(rootpath + '/*'+ str(i_num).zfill(6) + '_pseudo.png')\n",
    "\n",
    "        if len(pseudo_PNG_num) == 0:\n",
    "            print(i_num )\n",
    "\n"
   ]
  }
 ],
 "metadata": {
  "kernelspec": {
   "display_name": "Python 3.8.8 ('py388')",
   "language": "python",
   "name": "python3"
  },
  "language_info": {
   "codemirror_mode": {
    "name": "ipython",
    "version": 3
   },
   "file_extension": ".py",
   "mimetype": "text/x-python",
   "name": "python",
   "nbconvert_exporter": "python",
   "pygments_lexer": "ipython3",
   "version": "3.8.8"
  },
  "orig_nbformat": 4,
  "vscode": {
   "interpreter": {
    "hash": "677c0435ce1546a17936ac4ebb68e354c483e0b171ba4fe465c88ee614eeb35b"
   }
  }
 },
 "nbformat": 4,
 "nbformat_minor": 2
}
