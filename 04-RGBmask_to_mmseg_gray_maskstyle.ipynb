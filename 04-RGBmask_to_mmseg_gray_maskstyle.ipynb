{
 "cells": [
  {
   "cell_type": "markdown",
   "metadata": {},
   "source": [
    "\n",
    "1 = mmsegmentation RGB mask label change to mmseg gray style png  \n",
    "2 = 注意：标注是跟图像同样的形状 (H, W)，其中的像素值的范围是 `[0, num_classes - 1]`。  \n",
    "3 = 示例：[0, 2-1]   \n",
    "4 = VOC数据集  ==> RGB mask label change to mmseg gray style png  \n",
    "5 = ADK20数据集 ==> RGB mask label change to mmseg gray style png  "
   ]
  },
  {
   "cell_type": "code",
   "execution_count": 1,
   "metadata": {},
   "outputs": [],
   "source": [
    "from PIL import Image\n",
    "import numpy as np\n",
    "import os\n",
    "import cv2\n",
    "import time"
   ]
  },
  {
   "cell_type": "code",
   "execution_count": 2,
   "metadata": {},
   "outputs": [],
   "source": [
    "# RGB mask == > mmsegmetation mask \n",
    "def color2gray(img_path, color_map, save_dir):\n",
    "    # 读取图片\n",
    "    color_img = cv2.imread(img_path, cv2.IMREAD_UNCHANGED)\n",
    "    # print('像素值= ', np.unique(color_img) )\n",
    "    # 计算时间\n",
    "    t0 = time.time()\n",
    "    gray_img = np.zeros(shape=(color_img.shape[0], color_img.shape[1]), dtype=np.uint8)\n",
    "    for i in range(color_map.shape[0]):\n",
    "        index = np.where(np.all(color_img == color_map[i], axis=-1))  # np.all true false\n",
    "        # print(i,'\\n',index,'\\n',color_map.shape[0])\n",
    "        gray_img[index] = i\n",
    "    t1 = time.time()\n",
    "    time_cost = round(t1 - t0, 3)\n",
    "    # print(f\"color2label  cost time {time_cost}\")\n",
    "    # 保存图片\n",
    "    dir, name = os.path.split(img_path)\n",
    "    if not os.path.exists(save_dir):\n",
    "        os.mkdir(save_dir)\n",
    "    save_path = os.path.join(save_dir, name)\n",
    "    cv2.imwrite(save_path, gray_img)\n"
   ]
  },
  {
   "cell_type": "code",
   "execution_count": 3,
   "metadata": {},
   "outputs": [
    {
     "data": {
      "text/plain": [
       "array([0, 1], dtype=uint8)"
      ]
     },
     "execution_count": 3,
     "metadata": {},
     "output_type": "execute_result"
    }
   ],
   "source": [
    "# VOC 数据集  RGB mask ==> mmseg_gray_style mask\n",
    "# 你的colormap # 特别注意 cv2 == BGR \n",
    "cmap = np.array(  \n",
    "    [\n",
    "        (0, 0, 0),      # background\n",
    "        (181, 119, 53), # pitaya # 读取 RGB (53, 119, 181) ==> cv2 ：BGR (181, 119, 53)   \n",
    "    ] )\n",
    "\n",
    "# 文件路径\n",
    "root_path_gray = 'IMG_AUG'\n",
    "target_folder  = 'SegmentationClass_AUG_mask_graymmseg'\n",
    "img_dir = os.path.join(root_path_gray, 'SegmentationClass_AUG_mask')\n",
    "save_dir = os.path.join(root_path_gray, target_folder)\n",
    "if not os.path.exists(img_dir):\n",
    "    os.mkdir(img_dir)\n",
    "\n",
    "for img in os.listdir(img_dir):\n",
    "    if not img.endswith((\".png\", \".jpg\")):\n",
    "        continue\n",
    "    img_path = os.path.join(img_dir, img)\n",
    "    color2gray(img_path, color_map=cmap, save_dir=save_dir)\n",
    "\n",
    "path_valid =  os.path.join(root_path_gray, target_folder, os.listdir(img_dir)[0])\n",
    "img = cv2.imread(path_valid)\n",
    "np.unique(img)"
   ]
  },
  {
   "cell_type": "code",
   "execution_count": 4,
   "metadata": {},
   "outputs": [
    {
     "ename": "FileNotFoundError",
     "evalue": "[WinError 3] 系统找不到指定的路径。: 'IMG_AUG_ADE\\\\ADEData_HLGSeg\\\\annotations\\\\training'",
     "output_type": "error",
     "traceback": [
      "\u001b[1;31m---------------------------------------------------------------------------\u001b[0m",
      "\u001b[1;31mFileNotFoundError\u001b[0m                         Traceback (most recent call last)",
      "\u001b[1;32mf:\\F_Segmetation\\F_Segmentation_HLG_DatasetAUG\\Data_Augmentation_VOC_HLGSeg_To_COCO_YOLO_DemoCode\\04-RGBmask_to_mmseg_gray_maskstyle.ipynb Cell 5\u001b[0m in \u001b[0;36m<cell line: 17>\u001b[1;34m()\u001b[0m\n\u001b[0;32m     <a href='vscode-notebook-cell:/f%3A/F_Segmetation/F_Segmentation_HLG_DatasetAUG/Data_Augmentation_VOC_HLGSeg_To_COCO_YOLO_DemoCode/04-RGBmask_to_mmseg_gray_maskstyle.ipynb#W4sZmlsZQ%3D%3D?line=15'>16</a>\u001b[0m save_dir \u001b[39m=\u001b[39m os\u001b[39m.\u001b[39mpath\u001b[39m.\u001b[39mjoin(root_path_gray, source_folder)\n\u001b[0;32m     <a href='vscode-notebook-cell:/f%3A/F_Segmetation/F_Segmentation_HLG_DatasetAUG/Data_Augmentation_VOC_HLGSeg_To_COCO_YOLO_DemoCode/04-RGBmask_to_mmseg_gray_maskstyle.ipynb#W4sZmlsZQ%3D%3D?line=16'>17</a>\u001b[0m \u001b[39mif\u001b[39;00m \u001b[39mnot\u001b[39;00m os\u001b[39m.\u001b[39mpath\u001b[39m.\u001b[39mexists(img_dir):\n\u001b[1;32m---> <a href='vscode-notebook-cell:/f%3A/F_Segmetation/F_Segmentation_HLG_DatasetAUG/Data_Augmentation_VOC_HLGSeg_To_COCO_YOLO_DemoCode/04-RGBmask_to_mmseg_gray_maskstyle.ipynb#W4sZmlsZQ%3D%3D?line=17'>18</a>\u001b[0m     os\u001b[39m.\u001b[39;49mmkdir(img_dir)\n\u001b[0;32m     <a href='vscode-notebook-cell:/f%3A/F_Segmetation/F_Segmentation_HLG_DatasetAUG/Data_Augmentation_VOC_HLGSeg_To_COCO_YOLO_DemoCode/04-RGBmask_to_mmseg_gray_maskstyle.ipynb#W4sZmlsZQ%3D%3D?line=19'>20</a>\u001b[0m \u001b[39mfor\u001b[39;00m img \u001b[39min\u001b[39;00m os\u001b[39m.\u001b[39mlistdir(img_dir):\n\u001b[0;32m     <a href='vscode-notebook-cell:/f%3A/F_Segmetation/F_Segmentation_HLG_DatasetAUG/Data_Augmentation_VOC_HLGSeg_To_COCO_YOLO_DemoCode/04-RGBmask_to_mmseg_gray_maskstyle.ipynb#W4sZmlsZQ%3D%3D?line=20'>21</a>\u001b[0m     \u001b[39mif\u001b[39;00m \u001b[39mnot\u001b[39;00m img\u001b[39m.\u001b[39mendswith((\u001b[39m\"\u001b[39m\u001b[39m.png\u001b[39m\u001b[39m\"\u001b[39m, \u001b[39m\"\u001b[39m\u001b[39m.jpg\u001b[39m\u001b[39m\"\u001b[39m)):\n",
      "\u001b[1;31mFileNotFoundError\u001b[0m: [WinError 3] 系统找不到指定的路径。: 'IMG_AUG_ADE\\\\ADEData_HLGSeg\\\\annotations\\\\training'"
     ]
    }
   ],
   "source": [
    "# ADK20 数据集   # train mask ==>  mmseg_gray_style mask \n",
    "# RGB mask ==> mmseg_gray_style mask \n",
    "# 你的colormap # 特别注意 cv2 == BGR \n",
    "cmap = np.array(  \n",
    "    [\n",
    "        (0, 0, 0), \n",
    "        (181, 119, 53), # 读取 RGB (53, 119, 181) ==> cv2 ：BGR (181, 119, 53)   \n",
    "    ] ) \n",
    "\n",
    "# train mask ==>  mmseg_gray_style mask\n",
    "# 文件路径 \n",
    "root_path_gray = 'IMG_AUG_ADE\\ADEData_HLGSeg\\\\annotations'\n",
    "target_folder = 'training'\n",
    "source_folder = 'training_graymmseg'\n",
    "img_dir = os.path.join(root_path_gray, target_folder) \n",
    "save_dir = os.path.join(root_path_gray, source_folder)\n",
    "if not os.path.exists(img_dir):\n",
    "    os.mkdir(img_dir)\n",
    "\n",
    "for img in os.listdir(img_dir):\n",
    "    if not img.endswith((\".png\", \".jpg\")):\n",
    "        continue\n",
    "    img_path = os.path.join(img_dir, img)\n",
    "    color2gray(img_path, color_map=cmap, save_dir=save_dir)\n",
    "\n",
    "path_valid =  os.path.join(root_path_gray, source_folder, os.listdir(img_dir)[0])\n",
    "img = cv2.imread(path_valid)\n",
    "np.unique(img)   "
   ]
  },
  {
   "cell_type": "code",
   "execution_count": null,
   "metadata": {},
   "outputs": [
    {
     "data": {
      "text/plain": [
       "array([0, 1], dtype=uint8)"
      ]
     },
     "execution_count": 4,
     "metadata": {},
     "output_type": "execute_result"
    }
   ],
   "source": [
    "# ADK20 数据集   # validation mask ==>  mmseg_gray_style mask \n",
    "# RGB mask ==> mmseg_gray_style mask \n",
    "# 你的colormap # 特别注意 cv2 == BGR \n",
    "cmap = np.array(  \n",
    "    [\n",
    "        (0, 0, 0), \n",
    "        (181, 119, 53), # 读取 RGB (53, 119, 181) ==> cv2 ：BGR (181, 119, 53)   \n",
    "    ] ) \n",
    "\n",
    "# validation mask ==>  mmseg_gray_style mask\n",
    "# 文件路径 \n",
    "root_path_gray = 'IMG_AUG_ADE\\ADEData_HLGSeg\\\\annotations'\n",
    "target_folder = 'validation'\n",
    "source_folder = 'validation_graymmseg'\n",
    "img_dir = os.path.join(root_path_gray, target_folder) \n",
    "save_dir = os.path.join(root_path_gray, source_folder)\n",
    "if not os.path.exists(img_dir):\n",
    "    os.mkdir(img_dir)\n",
    "\n",
    "for img in os.listdir(img_dir):\n",
    "    if not img.endswith((\".png\", \".jpg\")):\n",
    "        continue\n",
    "    img_path = os.path.join(img_dir, img)\n",
    "    color2gray(img_path, color_map=cmap, save_dir=save_dir)\n",
    "\n",
    "path_valid =  os.path.join(root_path_gray, source_folder, os.listdir(img_dir)[0])\n",
    "img = cv2.imread(path_valid)\n",
    "np.unique(img)   "
   ]
  }
 ],
 "metadata": {
  "kernelspec": {
   "display_name": "Python 3.8.8 ('py388')",
   "language": "python",
   "name": "python3"
  },
  "language_info": {
   "codemirror_mode": {
    "name": "ipython",
    "version": 3
   },
   "file_extension": ".py",
   "mimetype": "text/x-python",
   "name": "python",
   "nbconvert_exporter": "python",
   "pygments_lexer": "ipython3",
   "version": "3.8.8"
  },
  "orig_nbformat": 4,
  "vscode": {
   "interpreter": {
    "hash": "677c0435ce1546a17936ac4ebb68e354c483e0b171ba4fe465c88ee614eeb35b"
   }
  }
 },
 "nbformat": 4,
 "nbformat_minor": 2
}
